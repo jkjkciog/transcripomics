{
 "cells": [
  {
   "cell_type": "code",
   "execution_count": 1,
   "metadata": {},
   "outputs": [
    {
     "name": "stdout",
     "output_type": "stream",
     "text": [
      "Genome: ATGCACGGGAATTCATACATGCGCAACCGCACATCCACGAGCTATTATGAATCGCCTCGG\n",
      "Introns: ['TTTCAGGTTGAATACAATTAGTATCAACCCCTTAGAGGCCTTGGCAATTTGATCAGACTT', 'AAAACGTCGGTCAGAGAAGAGTGGTGTGGTCTGAAAATAATGAGTTTAGTGACGTGTAGG', 'TGGAGCACGGTCGGAGTTAAGCCTAGATACGAGAGACCGGAATACTAGCCGGTTACCGAG', 'AGTGCCTACACCGAAGTACGTCCCCGCAACGCACAATTTAACTGAGCCCCCTTCTGTTGA', 'ACACAACGGTATGCCCAGAATCCACCCCGGTGCGGTTTGCATTGAACCCACCGGTACTGG', 'TTTCGAATCGGACTCTCGGCCAGTAGCAAGTGACTTATAAGTGAGCTTACAAGACCATCG', 'GAAAATCTATTAGCCCATTGTGCTCTTTGCGGGATGTGCCACACATTGACAAAACATCGA', 'CACTGGTCGATAATAGCTTGCTATATTAGCCCCTCAATTCCGCATGCAGCCGCTGGAGGG', 'GAGGCGTCCCTGACTGTATTGGGCTGGATCCGACCGGATGACAATAGATTCGCTATACAT', 'ACCCCGCGAACTACATCACAGAGCATCGTCGAAGAGCTGAGAATAGTCTGCCAGTGACTA', 'GTGTGTAGCGGTCCATTGAAAATTATAATGCGTTCGTACCGGAGGAGTAAATGCATCCTT', 'TGCGAGCAGTCGAACGAATGCACGTGGTCTGATCCCGTCGACCGAATCGCGACTACTCTG', 'TAAATCCTCATTTCCAGGGCTTCCTTTGCAGTGCGTCTCTACCCCGAACAATGTGTAAAC', 'TCCGCATATCAGAACGAGACCACAGCCGCTTCACTTATCTCAATATTCTGGATAGCCATC', 'GATTGCGTCCGTGCTCAGTTCATTAGGGGTGCCTGAGCGGTAAGGGTTGCTTCGGTGCGA', 'GTTTCCGAAGAAGGGGAAGCTCTGCAATGAATAA', 'TCAGTTCATTAGGGGTGCCTGAGCGGTAA', 'CTATATTAGCCCCTCAATTCCGCATGCAGCCGCTGGA', 'TCGAATCGGACTCTCGGCCAGTAGCAAGTGACTTATAAGTG', 'CGGAGGAGTAAATGCATCCTTTGCGAG', 'CGGAAAATCTATTAGCCCATTGTGCTCT', 'ATAGTCTGCCAGTGACTAGTGTGT', 'GTCCCCGCAACGCACAATTTAACTGAGCCCCCTTCTGTTGAACACA', 'ACTACTCTGTAAAT', 'AGATTCGCTATACATACCCCG', 'ACAATGTGTAAACTCCGCATATCAGAACGAGACCACAGCCGC', 'AATACTAGCCGGTTACCGAGA', 'CAGGTTGAATACAATTAGTATCAACCCCTTAGAGGCCTTGGCAATTTG', 'ACGTGTAGGT']\n"
     ]
    }
   ],
   "source": [
    "\"RNA Splicing\"\n",
    "def readGenome(filename):\n",
    "    genome = ''\n",
    "    introns = []\n",
    "\n",
    "    with open(filename, 'r') as f:\n",
    "        is_first_read = True\n",
    "        for line in f:\n",
    "            line = line.rstrip()  # Remove trailing newline character\n",
    "            if not line.startswith('>'):  # Check if line is a header line\n",
    "                if is_first_read:\n",
    "                    genome += line\n",
    "                    is_first_read=False\n",
    "                else:\n",
    "                    introns.append(line)\n",
    "\n",
    "    return genome, introns\n",
    "\n",
    "genome, introns = readGenome('rosalind_splc.fa.txt')\n",
    "\n",
    "print(\"Genome:\", genome)\n",
    "print(\"Introns:\", introns)\n",
    "\n",
    "\n"
   ]
  },
  {
   "cell_type": "code",
   "execution_count": 2,
   "metadata": {},
   "outputs": [
    {
     "name": "stdout",
     "output_type": "stream",
     "text": [
      "ATGCACGGGAATTCATACATGCGCAACCGCACATCCACGAGCTATTATGAATCGCCTCGG\n"
     ]
    }
   ],
   "source": [
    "def remove_introns(genome, introns):\n",
    "    for intron in introns:\n",
    "        if intron in genome:\n",
    "            genome = genome.replace(intron, \"\")\n",
    "    return genome\n",
    "\n",
    "\n",
    "\n",
    "DNA_Seq=remove_introns(genome, introns)\n",
    "print(DNA_Seq)\n"
   ]
  },
  {
   "cell_type": "code",
   "execution_count": 3,
   "metadata": {},
   "outputs": [
    {
     "name": "stdout",
     "output_type": "stream",
     "text": [
      "UACGUGCCCUUAAGUAUGUACGCGUUGGCGUGUAGGUGCUCGAUAAUACUUAGCGGAGCC\n"
     ]
    }
   ],
   "source": [
    "def DNA_To_RNA(DNA_seq):\n",
    "    RNA_Seq=[]\n",
    "    for element in DNA_Seq:\n",
    "        if element == 'A':\n",
    "            RNA_Seq.append('U')\n",
    "        elif element == 'T':\n",
    "            RNA_Seq.append('A')\n",
    "        elif element == 'G':\n",
    "            RNA_Seq.append('C')\n",
    "        elif element == 'C':\n",
    "            RNA_Seq.append('G')\n",
    "    RNA_Seq=''.join(RNA_Seq)\n",
    "    return RNA_Seq\n",
    "\n",
    "RNA_Seq=DNA_To_RNA(DNA_Seq)\n",
    "print(RNA_Seq)\n"
   ]
  },
  {
   "cell_type": "code",
   "execution_count": 4,
   "metadata": {},
   "outputs": [
    {
     "name": "stdout",
     "output_type": "stream",
     "text": [
      "UACGUGCCCUUAAGUAUGUACGCGUUGGCGUGUAGGUGCUCGAUAAUACUUAGCGGAGCC\n",
      "Protein sequence:\n",
      "YVPLSMYALACRCSIILSGA\n"
     ]
    }
   ],
   "source": [
    "def translate_dna_to_protein(dna_codons):\n",
    "    codon_table = {\n",
    "        'AUA': 'I', 'AUC': 'I', 'AUU': 'I', 'AUG': 'M',\n",
    "        'ACA': 'T', 'ACC': 'T', 'ACG': 'T', 'ACU': 'T',\n",
    "        'AAC': 'N', 'AAU': 'N', 'AAA': 'K', 'AAG': 'K',\n",
    "        'AGC': 'S', 'AGU': 'S', 'AGA': 'R', 'AGG': 'R',\n",
    "        'CUA': 'L', 'CUC': 'L', 'CUG': 'L', 'CUU': 'L',\n",
    "        'CCA': 'P', 'CCC': 'P', 'CCG': 'P', 'CCU': 'P',\n",
    "        'CAC': 'H', 'CAU': 'H', 'CAA': 'Q', 'CAG': 'Q',\n",
    "        'CGA': 'R', 'CGC': 'R', 'CGG': 'R', 'CGU': 'R',\n",
    "        'GUA': 'V', 'GUC': 'V', 'GUG': 'V', 'GUU': 'V',\n",
    "        'GCA': 'A', 'GCC': 'A', 'GCG': 'A', 'GCU': 'A',\n",
    "        'GAC': 'D', 'GAU': 'D', 'GAA': 'E', 'GAG': 'E',\n",
    "        'GGA': 'G', 'GGC': 'G', 'GGG': 'G', 'GGU': 'G',\n",
    "        'UCA': 'S', 'UCC': 'S', 'UCG': 'S', 'UCU': 'S',\n",
    "        'UUC': 'F', 'UUU': 'F', 'UUA': 'L', 'UUG': 'L',\n",
    "        'UAC': 'Y', 'UAU': 'Y', 'UAA': '_', 'UAG': '_',\n",
    "        'UGC': 'C', 'UGU': 'C', 'UGA': '_', 'UGG': 'W',\n",
    "    }\n",
    "\n",
    "    protein_sequence = \"\"\n",
    "    for codon in range(0, len(dna_codons), 3):\n",
    "        protein = codon_table.get(dna_codons[codon:codon+3])\n",
    "        if protein:\n",
    "            protein_sequence += protein\n",
    "\n",
    "    return protein_sequence\n",
    "\n",
    "\n",
    "\n",
    "print(RNA_Seq)\n",
    "protein_seq = translate_dna_to_protein(RNA_Seq)\n",
    "print(\"Protein sequence:\")\n",
    "print(protein_seq)"
   ]
  },
  {
   "cell_type": "code",
   "execution_count": 6,
   "metadata": {},
   "outputs": [],
   "source": [
    "import random\n",
    "def k_mean_clustering(k, data):\n",
    "    # Initialize centroids randomly\n",
    "    centroids = random.sample(data, k)\n",
    "    print(\"Initial centroids:\")\n",
    "    print(centroids)\n",
    "\n",
    "    # Initialize book keeping vars.\n",
    "    iterations = 0\n",
    "    old_centroids = None\n",
    "\n",
    "    # Run the main k-means algorithm\n",
    "    while not should_stop(old_centroids, centroids, iterations):\n",
    "        # Save old centroids for convergence test. Book keeping.\n",
    "        old_centroids = centroids\n",
    "        iterations += 1\n",
    "\n",
    "        # Assign labels to each datapoint based on centroids\n",
    "        labels = get_labels(data, centroids)\n",
    "\n",
    "        # Assign centroids based on datapoint labels\n",
    "        centroids = get_centroids(data, labels, k)\n",
    "\n",
    "    # We can get the labels too by calling get_labels(data, centroids)\n",
    "    return centroids\n",
    "\n",
    "\n",
    "\n",
    "            "
   ]
  },
  {
   "cell_type": "code",
   "execution_count": 4,
   "metadata": {},
   "outputs": [
    {
     "name": "stdout",
     "output_type": "stream",
     "text": [
      "Genome: ATGCACGGGAATTCATACATGCGCAACCGCACATCCACGAGCTATTATGAATCGCCTCGGTTTCAGGTTGAATACAATTAGTATCAACCCCTTAGAGGCCTTGGCAATTTGATCAGACTTAAAACGTCGGTCAGAGAAGAGTGGTGTGGTCTGAAAATAATGAGTTTAGTGACGTGTAGGTGGAGCACGGTCGGAGTTAAGCCTAGATACGAGAGACCGGAATACTAGCCGGTTACCGAGAGTGCCTACACCGAAGTACGTCCCCGCAACGCACAATTTAACTGAGCCCCCTTCTGTTGAACACAACGGTATGCCCAGAATCCACCCCGGTGCGGTTTGCATTGAACCCACCGGTACTGGTTTCGAATCGGACTCTCGGCCAGTAGCAAGTGACTTATAAGTGAGCTTACAAGACCATCGGAAAATCTATTAGCCCATTGTGCTCTTTGCGGGATGTGCCACACATTGACAAAACATCGACACTGGTCGATAATAGCTTGCTATATTAGCCCCTCAATTCCGCATGCAGCCGCTGGAGGGGAGGCGTCCCTGACTGTATTGGGCTGGATCCGACCGGATGACAATAGATTCGCTATACATACCCCGCGAACTACATCACAGAGCATCGTCGAAGAGCTGAGAATAGTCTGCCAGTGACTAGTGTGTAGCGGTCCATTGAAAATTATAATGCGTTCGTACCGGAGGAGTAAATGCATCCTTTGCGAGCAGTCGAACGAATGCACGTGGTCTGATCCCGTCGACCGAATCGCGACTACTCTGTAAATCCTCATTTCCAGGGCTTCCTTTGCAGTGCGTCTCTACCCCGAACAATGTGTAAACTCCGCATATCAGAACGAGACCACAGCCGCTTCACTTATCTCAATATTCTGGATAGCCATCGATTGCGTCCGTGCTCAGTTCATTAGGGGTGCCTGAGCGGTAAGGGTTGCTTCGGTGCGAGTTTCCGAAGAAGGGGAAGCTCTGCAATGAATAA\n",
      "Introns: ['TCAGTTCATTAGGGGTGCCTGAGCGGTAA', 'CTATATTAGCCCCTCAATTCCGCATGCAGCCGCTGGA', 'TCGAATCGGACTCTCGGCCAGTAGCAAGTGACTTATAAGTG', 'CGGAGGAGTAAATGCATCCTTTGCGAG', 'CGGAAAATCTATTAGCCCATTGTGCTCT', 'ATAGTCTGCCAGTGACTAGTGTGT', 'GTCCCCGCAACGCACAATTTAACTGAGCCCCCTTCTGTTGAACACA', 'ACTACTCTGTAAAT', 'AGATTCGCTATACATACCCCG', 'ACAATGTGTAAACTCCGCATATCAGAACGAGACCACAGCCGC', 'AATACTAGCCGGTTACCGAGA', 'CAGGTTGAATACAATTAGTATCAACCCCTTAGAGGCCTTGGCAATTTG', 'ACGTGTAGGT']\n"
     ]
    }
   ],
   "source": [
    "def readGenome(filename):\n",
    "    genome = ''\n",
    "    introns = []\n",
    "    current_sequence = ''\n",
    "\n",
    "    with open(filename, 'r') as f:\n",
    "        for line in f:\n",
    "            line = line.rstrip()  # Remove trailing newline character\n",
    "            \n",
    "            if line.startswith('>'):\n",
    "                if genome == '':  # If genome is not set yet\n",
    "                    genome = current_sequence\n",
    "                elif current_sequence != '':  # Otherwise, if there's any sequence collected\n",
    "                    introns.append(current_sequence)\n",
    "                current_sequence = ''  # Reset the sequence collector\n",
    "            else:\n",
    "                current_sequence += line\n",
    "\n",
    "        # After the loop ends, check if there's any sequence left\n",
    "        if current_sequence:\n",
    "            introns.append(current_sequence)\n",
    "\n",
    "    return genome, introns\n",
    "\n",
    "genome, introns = readGenome('Rosalind_splc.fa.txt')\n",
    "\n",
    "print(\"Genome:\", genome)\n",
    "print(\"Introns:\", introns)\n"
   ]
  },
  {
   "cell_type": "code",
   "execution_count": 1,
   "metadata": {},
   "outputs": [
    {
     "name": "stdout",
     "output_type": "stream",
     "text": [
      "Final number of bacteria: 1267650600228229401496703205376\n"
     ]
    }
   ],
   "source": [
    "# Define the initial number of bacteria\n",
    "initial_bacteria_count = 1\n",
    "\n",
    "# Define the number of cycles\n",
    "num_cycles = 100\n",
    "\n",
    "# Simulate the replication process\n",
    "bacteria_count = initial_bacteria_count\n",
    "for cycle in range(num_cycles):\n",
    "    # Each bacterium replicates into two new bacteria\n",
    "    bacteria_count *= 2\n",
    "\n",
    "# Print the final number of bacteria\n",
    "print(\"Final number of bacteria:\", bacteria_count)\n"
   ]
  }
 ],
 "metadata": {
  "kernelspec": {
   "display_name": "Python 3",
   "language": "python",
   "name": "python3"
  },
  "language_info": {
   "codemirror_mode": {
    "name": "ipython",
    "version": 3
   },
   "file_extension": ".py",
   "mimetype": "text/x-python",
   "name": "python",
   "nbconvert_exporter": "python",
   "pygments_lexer": "ipython3",
   "version": "3.11.2"
  },
  "orig_nbformat": 4
 },
 "nbformat": 4,
 "nbformat_minor": 2
}
