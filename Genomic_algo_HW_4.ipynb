{
 "cells": [
  {
   "cell_type": "code",
   "execution_count": 5,
   "metadata": {},
   "outputs": [
    {
     "name": "stdout",
     "output_type": "stream",
     "text": [
      "Genome: ATGGTCTACATAGCTGACAAACAGCACGTAGCAATCGGTCGAATCTCGAGAGGCATATGGTCACATGATCGGTCGAGCGTGTTTCAAAGTTTGCGCCTAG\n",
      "Introns: ['ATCGGTCGAA', 'ATCGGTCGAGCGTGT']\n"
     ]
    }
   ],
   "source": [
    "\"RNA Splicing\"\n",
    "def readGenome(filename):\n",
    "    genome = ''\n",
    "    introns = []\n",
    "\n",
    "    with open(filename, 'r') as f:\n",
    "        is_first_read = True\n",
    "        for line in f:\n",
    "            line = line.rstrip()  # Remove trailing newline character\n",
    "            if not line.startswith('>'):  # Check if line is a header line\n",
    "                if is_first_read:\n",
    "                    genome += line\n",
    "                    is_first_read=False\n",
    "                else:\n",
    "                    introns.append(line)\n",
    "\n",
    "    return genome, introns\n",
    "\n",
    "genome, introns = readGenome('RNA_SPLICING_TEST_FILE.fa')\n",
    "\n",
    "print(\"Genome:\", genome)\n",
    "print(\"Introns:\", introns)"
   ]
  }
 ],
 "metadata": {
  "kernelspec": {
   "display_name": "Python 3",
   "language": "python",
   "name": "python3"
  },
  "language_info": {
   "codemirror_mode": {
    "name": "ipython",
    "version": 3
   },
   "file_extension": ".py",
   "mimetype": "text/x-python",
   "name": "python",
   "nbconvert_exporter": "python",
   "pygments_lexer": "ipython3",
   "version": "3.11.2"
  },
  "orig_nbformat": 4
 },
 "nbformat": 4,
 "nbformat_minor": 2
}
