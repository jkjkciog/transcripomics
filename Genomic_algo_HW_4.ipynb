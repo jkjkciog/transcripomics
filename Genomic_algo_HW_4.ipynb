{
 "cells": [
  {
   "cell_type": "code",
   "execution_count": 9,
   "metadata": {},
   "outputs": [
    {
     "name": "stdout",
     "output_type": "stream",
     "text": [
      "Genome: ATGCACGGGAATTCATACATGCGCAACCGCACATCCACGAGCTATTATGAATCGCCTCGG\n",
      "Introns: ['TTTCAGGTTGAATACAATTAGTATCAACCCCTTAGAGGCCTTGGCAATTTGATCAGACTT', 'AAAACGTCGGTCAGAGAAGAGTGGTGTGGTCTGAAAATAATGAGTTTAGTGACGTGTAGG', 'TGGAGCACGGTCGGAGTTAAGCCTAGATACGAGAGACCGGAATACTAGCCGGTTACCGAG', 'AGTGCCTACACCGAAGTACGTCCCCGCAACGCACAATTTAACTGAGCCCCCTTCTGTTGA', 'ACACAACGGTATGCCCAGAATCCACCCCGGTGCGGTTTGCATTGAACCCACCGGTACTGG', 'TTTCGAATCGGACTCTCGGCCAGTAGCAAGTGACTTATAAGTGAGCTTACAAGACCATCG', 'GAAAATCTATTAGCCCATTGTGCTCTTTGCGGGATGTGCCACACATTGACAAAACATCGA', 'CACTGGTCGATAATAGCTTGCTATATTAGCCCCTCAATTCCGCATGCAGCCGCTGGAGGG', 'GAGGCGTCCCTGACTGTATTGGGCTGGATCCGACCGGATGACAATAGATTCGCTATACAT', 'ACCCCGCGAACTACATCACAGAGCATCGTCGAAGAGCTGAGAATAGTCTGCCAGTGACTA', 'GTGTGTAGCGGTCCATTGAAAATTATAATGCGTTCGTACCGGAGGAGTAAATGCATCCTT', 'TGCGAGCAGTCGAACGAATGCACGTGGTCTGATCCCGTCGACCGAATCGCGACTACTCTG', 'TAAATCCTCATTTCCAGGGCTTCCTTTGCAGTGCGTCTCTACCCCGAACAATGTGTAAAC', 'TCCGCATATCAGAACGAGACCACAGCCGCTTCACTTATCTCAATATTCTGGATAGCCATC', 'GATTGCGTCCGTGCTCAGTTCATTAGGGGTGCCTGAGCGGTAAGGGTTGCTTCGGTGCGA', 'GTTTCCGAAGAAGGGGAAGCTCTGCAATGAATAA', 'TCAGTTCATTAGGGGTGCCTGAGCGGTAA', 'CTATATTAGCCCCTCAATTCCGCATGCAGCCGCTGGA', 'TCGAATCGGACTCTCGGCCAGTAGCAAGTGACTTATAAGTG', 'CGGAGGAGTAAATGCATCCTTTGCGAG', 'CGGAAAATCTATTAGCCCATTGTGCTCT', 'ATAGTCTGCCAGTGACTAGTGTGT', 'GTCCCCGCAACGCACAATTTAACTGAGCCCCCTTCTGTTGAACACA', 'ACTACTCTGTAAAT', 'AGATTCGCTATACATACCCCG', 'ACAATGTGTAAACTCCGCATATCAGAACGAGACCACAGCCGC', 'AATACTAGCCGGTTACCGAGA', 'CAGGTTGAATACAATTAGTATCAACCCCTTAGAGGCCTTGGCAATTTG', 'ACGTGTAGGT']\n"
     ]
    }
   ],
   "source": [
    "\"RNA Splicing\"\n",
    "def readGenome(filename):\n",
    "    genome = ''\n",
    "    introns = []\n",
    "\n",
    "    with open(filename, 'r') as f:\n",
    "        is_first_read = True\n",
    "        for line in f:\n",
    "            line = line.rstrip()  # Remove trailing newline character\n",
    "            if not line.startswith('>'):  # Check if line is a header line\n",
    "                if is_first_read:\n",
    "                    genome += line\n",
    "                    is_first_read=False\n",
    "                else:\n",
    "                    introns.append(line)\n",
    "\n",
    "    return genome, introns\n",
    "\n",
    "genome, introns = readGenome('rosalind_splc.fa.txt')\n",
    "\n",
    "print(\"Genome:\", genome)\n",
    "print(\"Introns:\", introns)\n",
    "\n",
    "\n"
   ]
  },
  {
   "cell_type": "code",
   "execution_count": 6,
   "metadata": {},
   "outputs": [
    {
     "name": "stdout",
     "output_type": "stream",
     "text": [
      "ATGCACGGGAATTCATACATGCGCAACCGCACATCCACGAGCTATTATGAATCGCCTCGG\n"
     ]
    }
   ],
   "source": [
    "def remove_introns(genome, introns):\n",
    "    for intron in introns:\n",
    "        if intron in genome:\n",
    "            genome = genome.replace(intron, \"\")\n",
    "    return genome\n",
    "\n",
    "\n",
    "\n",
    "DNA_Seq=remove_introns(genome, introns)\n",
    "print(DNA_Seq)\n"
   ]
  },
  {
   "cell_type": "code",
   "execution_count": 7,
   "metadata": {},
   "outputs": [
    {
     "name": "stdout",
     "output_type": "stream",
     "text": [
      "UACGUGCCCUUAAGUAUGUACGCGUUGGCGUGUAGGUGCUCGAUAAUACUUAGCGGAGCC\n"
     ]
    }
   ],
   "source": [
    "def DNA_To_RNA(DNA_seq):\n",
    "    RNA_Seq=[]\n",
    "    for element in DNA_Seq:\n",
    "        if element == 'A':\n",
    "            RNA_Seq.append('U')\n",
    "        elif element == 'T':\n",
    "            RNA_Seq.append('A')\n",
    "        elif element == 'G':\n",
    "            RNA_Seq.append('C')\n",
    "        elif element == 'C':\n",
    "            RNA_Seq.append('G')\n",
    "    RNA_Seq=''.join(RNA_Seq)\n",
    "    return RNA_Seq\n",
    "\n",
    "RNA_Seq=DNA_To_RNA(DNA_Seq)\n",
    "print(RNA_Seq)\n"
   ]
  },
  {
   "cell_type": "code",
   "execution_count": 8,
   "metadata": {},
   "outputs": [
    {
     "name": "stdout",
     "output_type": "stream",
     "text": [
      "UACGUGCCCUUAAGUAUGUACGCGUUGGCGUGUAGGUGCUCGAUAAUACUUAGCGGAGCC\n",
      "Protein sequence:\n",
      "YVPLSMYALACRCSIILSGA\n"
     ]
    }
   ],
   "source": [
    "def translate_dna_to_protein(dna_codons):\n",
    "    codon_table = {\n",
    "        'AUA': 'I', 'AUC': 'I', 'AUU': 'I', 'AUG': 'M',\n",
    "        'ACA': 'T', 'ACC': 'T', 'ACG': 'T', 'ACU': 'T',\n",
    "        'AAC': 'N', 'AAU': 'N', 'AAA': 'K', 'AAG': 'K',\n",
    "        'AGC': 'S', 'AGU': 'S', 'AGA': 'R', 'AGG': 'R',\n",
    "        'CUA': 'L', 'CUC': 'L', 'CUG': 'L', 'CUU': 'L',\n",
    "        'CCA': 'P', 'CCC': 'P', 'CCG': 'P', 'CCU': 'P',\n",
    "        'CAC': 'H', 'CAU': 'H', 'CAA': 'Q', 'CAG': 'Q',\n",
    "        'CGA': 'R', 'CGC': 'R', 'CGG': 'R', 'CGU': 'R',\n",
    "        'GUA': 'V', 'GUC': 'V', 'GUG': 'V', 'GUU': 'V',\n",
    "        'GCA': 'A', 'GCC': 'A', 'GCG': 'A', 'GCU': 'A',\n",
    "        'GAC': 'D', 'GAU': 'D', 'GAA': 'E', 'GAG': 'E',\n",
    "        'GGA': 'G', 'GGC': 'G', 'GGG': 'G', 'GGU': 'G',\n",
    "        'UCA': 'S', 'UCC': 'S', 'UCG': 'S', 'UCU': 'S',\n",
    "        'UUC': 'F', 'UUU': 'F', 'UUA': 'L', 'UUG': 'L',\n",
    "        'UAC': 'Y', 'UAU': 'Y', 'UAA': '_', 'UAG': '_',\n",
    "        'UGC': 'C', 'UGU': 'C', 'UGA': '_', 'UGG': 'W',\n",
    "    }\n",
    "\n",
    "    protein_sequence = \"\"\n",
    "    for codon in range(0, len(dna_codons), 3):\n",
    "        protein = codon_table.get(dna_codons[codon:codon+3])\n",
    "        if protein:\n",
    "            protein_sequence += protein\n",
    "\n",
    "    return protein_sequence\n",
    "\n",
    "\n",
    "\n",
    "print(RNA_Seq)\n",
    "protein_seq = translate_dna_to_protein(RNA_Seq)\n",
    "print(\"Protein sequence:\")\n",
    "print(protein_seq)"
   ]
  }
 ],
 "metadata": {
  "kernelspec": {
   "display_name": "Python 3",
   "language": "python",
   "name": "python3"
  },
  "language_info": {
   "codemirror_mode": {
    "name": "ipython",
    "version": 3
   },
   "file_extension": ".py",
   "mimetype": "text/x-python",
   "name": "python",
   "nbconvert_exporter": "python",
   "pygments_lexer": "ipython3",
   "version": "3.11.2"
  },
  "orig_nbformat": 4
 },
 "nbformat": 4,
 "nbformat_minor": 2
}
