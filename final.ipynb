{
 "cells": [
  {
   "cell_type": "code",
   "execution_count": 1,
   "metadata": {},
   "outputs": [
    {
     "name": "stdout",
     "output_type": "stream",
     "text": [
      "10\n"
     ]
    }
   ],
   "source": [
    "def sum_numbers(*args):\n",
    "    return sum(args)\n",
    "\n",
    "print(sum_numbers(1, 2, 3, 4))  # Outputs: 10\n"
   ]
  },
  {
   "cell_type": "code",
   "execution_count": 2,
   "metadata": {},
   "outputs": [
    {
     "name": "stdout",
     "output_type": "stream",
     "text": [
      "Sequence(mol_type=\"dna\", sequence=\"AAAAAA\")\n"
     ]
    }
   ],
   "source": [
    "class Sequence:\n",
    "    def __init__(self, sequence: str = None, mol_type: str = None):\n",
    "        self.sequence = sequence\n",
    "        self.mol_type = mol_type\n",
    "\n",
    "    def __str__(self):\n",
    "        return f'Sequence(mol_type=\"{self.mol_type}\", sequence=\"{self.sequence}\")'\n",
    "\n",
    "sequence_obj = Sequence(sequence=\"AAAAAA\", mol_type=\"dna\")\n",
    "print(sequence_obj)\n"
   ]
  },
  {
   "cell_type": "code",
   "execution_count": 5,
   "metadata": {},
   "outputs": [
    {
     "name": "stdout",
     "output_type": "stream",
     "text": [
      "Calling function add with arguments (5, 3) and {}\n",
      "8\n"
     ]
    }
   ],
   "source": [
    "def logger(func):\n",
    "    def wrapper(*args, **kwargs):\n",
    "        print(f'Calling function {func.__name__} with arguments {args} and {kwargs}')\n",
    "        return func(*args, **kwargs)\n",
    "    return wrapper\n",
    "\n",
    "@logger\n",
    "def add(x, y):\n",
    "    return x + y\n",
    "\n",
    "print(add(5, 3))\n"
   ]
  },
  {
   "cell_type": "code",
   "execution_count": 4,
   "metadata": {},
   "outputs": [
    {
     "name": "stdout",
     "output_type": "stream",
     "text": [
      "[3, 6, 9, 12, 15, 18, 21, 24, 27, 30]\n"
     ]
    }
   ],
   "source": [
    "multiples_of_three = [x for x in range(1, 31) if x % 3 == 0]\n",
    "print(multiples_of_three)\n"
   ]
  },
  {
   "cell_type": "code",
   "execution_count": 5,
   "metadata": {},
   "outputs": [
    {
     "name": "stdout",
     "output_type": "stream",
     "text": [
      "{'carla': 96, 'alice': 88, 'david': 75}\n"
     ]
    }
   ],
   "source": [
    "a = ['alice', 'david', 'carla']\n",
    "b = [88, 75, 96]\n",
    "sorted_dict = dict(sorted(zip(a, b), key=lambda item: item[1], reverse=True))\n",
    "print(sorted_dict)\n"
   ]
  },
  {
   "cell_type": "code",
   "execution_count": 3,
   "metadata": {},
   "outputs": [
    {
     "name": "stdout",
     "output_type": "stream",
     "text": [
      "NBLST3\n"
     ]
    }
   ],
   "source": [
    "gene_ds =[\n",
    "    {'Gene': 'KRAS', 'Expression': 2.4, 'Aka': 'RALD'},\n",
    "    {'Gene': 'EGFR', 'Expression': 2.9, 'Aka': 'ERBB1'},  \n",
    "   {'Gene': 'TP53', 'Expression': 1.9, 'Aka': 'LFS1'},  \n",
    "   {'Gene': 'ALK', 'Expression': 3.5, 'Aka': 'NBLST3'},\n",
    "]\n",
    "\n",
    "print(next(item['Aka'] for item in gene_ds if item['Gene'] == 'ALK'))\n",
    "\n"
   ]
  },
  {
   "cell_type": "code",
   "execution_count": 10,
   "metadata": {},
   "outputs": [
    {
     "name": "stdout",
     "output_type": "stream",
     "text": [
      "{2, 3}\n"
     ]
    }
   ],
   "source": [
    "a = {1, 2, 3}\n",
    "b = {2, 3, 4}\n",
    "c = a.intersection(b)\n",
    "print(c)\n"
   ]
  },
  {
   "cell_type": "code",
   "execution_count": 11,
   "metadata": {},
   "outputs": [
    {
     "name": "stdout",
     "output_type": "stream",
     "text": [
      "[2, 4, 6, 8, 10, 12, 14, 16, 18, 20]\n"
     ]
    }
   ],
   "source": [
    "numbers = range(1, 21)\n",
    "evens = [num for num in numbers if num % 2 == 0]\n",
    "print(evens)\n"
   ]
  },
  {
   "cell_type": "code",
   "execution_count": 6,
   "metadata": {},
   "outputs": [
    {
     "name": "stdout",
     "output_type": "stream",
     "text": [
      "Removed evens: [2, 4, 6, 8, 10, 12, 14, 16, 18, 20]\n",
      "Remaining odds: [1, 3, 5, 7, 9, 11, 13, 15, 17, 19]\n"
     ]
    }
   ],
   "source": [
    "numbers = [1, 2, 3, 4, 5, 6, 7, 8, 9, 10, 11, 12, 13, 14, 15, 16, 17, 18, 19, 20]\n",
    "\n",
    "# Filtering even numbers using list comprehension\n",
    "evens = [num for num in numbers if num % 2 == 0]\n",
    "\n",
    "# Creating a new list of remaining odds also using list comprehension\n",
    "odds = [num for num in numbers if num not in evens]\n",
    "\n",
    "print(\"Removed evens:\", evens)\n",
    "print(\"Remaining odds:\", odds)\n",
    "\n"
   ]
  },
  {
   "cell_type": "code",
   "execution_count": null,
   "metadata": {},
   "outputs": [],
   "source": []
  },
  {
   "cell_type": "code",
   "execution_count": 12,
   "metadata": {},
   "outputs": [
    {
     "name": "stdout",
     "output_type": "stream",
     "text": [
      "Cannot divide by zero\n"
     ]
    }
   ],
   "source": [
    "try:\n",
    "    result = 10 / 0\n",
    "except ZeroDivisionError:\n",
    "    print(\"Cannot divide by zero\")\n"
   ]
  },
  {
   "cell_type": "code",
   "execution_count": 4,
   "metadata": {},
   "outputs": [
    {
     "name": "stdout",
     "output_type": "stream",
     "text": [
      "{'A': 2, 'C': 1, 'D': 1, 'E': 2, 'F': 1, 'G': 1, 'H': 1, 'I': 1, 'K': 1, 'L': 2, 'S': 2, 'M': 1, 'N': 1, 'P': 1, 'Q': 1, 'R': 1, 'T': 1, 'V': 1, 'W': 1, 'Y': 1}\n"
     ]
    }
   ],
   "source": [
    "def count_amino_acids(sequence):\n",
    "    counts = {}\n",
    "    for amino_acid in sequence:\n",
    "        counts[amino_acid] = counts.get(amino_acid, 0) + 1\n",
    "    return counts\n",
    "\n",
    "protein_sequence = \"ACDEFGHIKLASLEMNPQRSTVWY\" \n",
    "\n",
    "print(count_amino_acids(protein_sequence))\n"
   ]
  },
  {
   "cell_type": "code",
   "execution_count": 14,
   "metadata": {},
   "outputs": [],
   "source": [
    "from typing import Callable\n",
    "from functools import wraps\n",
    "\n",
    "def add_one(func: Callable) -> Callable:\n",
    "    @wraps(func)\n",
    "    def wrapper(*args, **kwargs):\n",
    "        return func(*args, **kwargs) + 1\n",
    "    return wrapper\n",
    "\n",
    "@add_one\n",
    "def return_int_value(value: int = 0) -> int:\n",
    "    return value\n"
   ]
  }
 ],
 "metadata": {
  "kernelspec": {
   "display_name": "Python 3",
   "language": "python",
   "name": "python3"
  },
  "language_info": {
   "codemirror_mode": {
    "name": "ipython",
    "version": 3
   },
   "file_extension": ".py",
   "mimetype": "text/x-python",
   "name": "python",
   "nbconvert_exporter": "python",
   "pygments_lexer": "ipython3",
   "version": "3.11.9"
  }
 },
 "nbformat": 4,
 "nbformat_minor": 2
}
