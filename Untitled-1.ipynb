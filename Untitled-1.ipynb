{
 "cells": [
  {
   "cell_type": "code",
   "execution_count": 8,
   "metadata": {},
   "outputs": [
    {
     "name": "stdout",
     "output_type": "stream",
     "text": [
      "['2', '3', '4']\n"
     ]
    }
   ],
   "source": [
    "n=input(\"wadda fuk\")\n",
    "n=list(str(n))\n",
    "print(n)\n",
    "\n"
   ]
  },
  {
   "cell_type": "code",
   "execution_count": 1,
   "metadata": {},
   "outputs": [
    {
     "name": "stdout",
     "output_type": "stream",
     "text": [
      "[-20, -19, -18, -17, -17, -13, -12, -10, -8, -5, -1, 2, 2, 3, 7, 12, 18]\n",
      "True\n",
      "[1, 1, 0, 4, 1, 2, 2, 3, 4, 3, 0, 1, 4, 5, 6]\n"
     ]
    }
   ],
   "source": [
    "#some leetcode problem\n",
    "points = [-13,-17,-8,-10,-20,2,3,-19,2,-18,-5,7,-12,18,-17,12,-1]\n",
    "points.sort()\n",
    "print(points)\n",
    "values=[]\n",
    "\n",
    "\n",
    "def canMakeArithmeticProgression(arr):\n",
    "    for i in range(2,len(arr)):\n",
    "        if arr[i]-arr[i-1]==arr[i-1]-arr[i-2]:\n",
    "            return True\n",
    "        else:\n",
    "            return False\n",
    "            break\n",
    "\n",
    "\n",
    "\n",
    "def canMakeArithmeticProgression(arr):\n",
    "    for i in range(2, len(arr)):\n",
    "        if arr[i] - arr[i-1] != arr[i-1] - arr[i-2]:\n",
    "            return False\n",
    "        elif len(arr)==2:\n",
    "            return True\n",
    "    return True       \n",
    "\n",
    "    \n",
    "print(canMakeArithmeticProgression(points))\n",
    "\n",
    "for i in range(2,len(points)):\n",
    "    values.append(points[i]-points[i-1])\n",
    "print(values)\n",
    "        \n",
    "\n",
    "    "
   ]
  },
  {
   "cell_type": "code",
   "execution_count": 4,
   "metadata": {},
   "outputs": [
    {
     "name": "stdout",
     "output_type": "stream",
     "text": [
      "{'A': 184, 'C': 210, 'G': 209, 'T': 208}\n"
     ]
    }
   ],
   "source": [
    "def countbases(seq):\n",
    "    counts = {'A': 0, 'C': 0, 'G': 0, 'T': 0}\n",
    "    for base in seq:\n",
    "        if base in counts:\n",
    "            counts[base] += 1\n",
    "    return counts\n",
    "print(countbases('CCGCGGAGCATTCAGTGGCTCTTCAAATGTCACACTTAAACCTTGTAAACCCTGGGAACGTCGCCGGACGGTAAATGTTGTTTGCCGCAGAATACAGCATACATGTTGTCACTCGGGTAAGAGCATGCTACTTTGAGTATAAATTGTCCTACATCGGCCGATTAGGGCCGTCTCTATTGGGGGCGGCGTTGGGGACCTAAGGCTCCGATTCACAGTCTCACTGACGCCCTGAACAAGCCCGTATCATGTAGCAATATTTGGCTCCACCTCCAATTCTCAAATCCCGCACATCGGACTCATTGGGTACGCGTAATCAGTAATGCGAATCGGTTGGACCTTGCGCGTGCTGAGCCATACTGTACAATCCCTTCTGGAGTCCTTGTGTGAGGATGTAGATTCAGTTCAGACGATGTATCGCTTAGGGATCCCATGACACAACTGCCAAGGTGGTCACCGGTTATGCGACGCCCAGCGGAATAAGGACGTCATCCTCCCGACATCGCTTCTCGAACATAAGAAAGCGTACACGCCTCGCCACCATCCGGTCGACGTGGTCGTATGGGTATCATTGTGGGGTTGTTTTTGGCACTCTTACGAGCCTGGAGGGGGGCCTACTTACCCGTCGCCCAGCGAGGCCGGGATGGTACAATCGTGGCTCGTCTACGTAATTCTTGTTCAATCTTGTAACCGATGGACTCCGCACCACTGGAGATTGCATTCTATGGTTAGCCTAACACTAGTGGTATATTGCTGGCCTGCCCACGAAAATCTCTTCGAGTAGTGTTATAGCTCGTTGGCAAAGGGCAATGAA'))"
   ]
  },
  {
   "cell_type": "code",
   "execution_count": 4,
   "metadata": {},
   "outputs": [
    {
     "name": "stdout",
     "output_type": "stream",
     "text": [
      "[33, 40, 47, 63, 90, 143, 174, 271, 278, 327, 348, 412, 475, 495, 502, 590, 597, 633, 658, 665, 682, 700, 742, 749, 815, 822, 846, 853, 880, 908]\n"
     ]
    }
   ],
   "source": [
    "#Rosaland (finding a motif in a DNA sequence)\n",
    "import Bio\n",
    "from Bio.Blast import NCBIWWW,NCBIXML\n",
    "from Bio.Seq import Seq\n",
    "from Bio import SeqIO\n",
    "import pandas as pd\n",
    "import django\n",
    "import matplotlib\n",
    "def naive(p, t):\n",
    "    occurrences = []\n",
    "    for i in range(len(t) - len(p) + 1):  # loop over alignments\n",
    "        match = True\n",
    "        for j in range(len(p)):  # loop over characters\n",
    "            if t[i+j] != p[j]:  # compare characters\n",
    "                match = False\n",
    "                break\n",
    "        if match:\n",
    "            occurrences.append(i+1)  # all chars matched; record\n",
    "    return occurrences\n",
    "\n",
    "s='ATTATAGAGCAGGTGTCGGAGCAGGTTCGCCCGAGCAGGGAGCAGGGAGCAGGGAGCAGGCGGAGCAGGGAGCAGGCGAGCAGGCGAAGGAGCAGGGAGCAGGAGTGGACAGGAGGGAGCAGGCGAGCAGGTTTGAGCAGGTGAGCAGGGAGCAGGATTGAGCAGGCGATCTGGAGCAGGGAGCAGGACACCGCAAGAGCAGGGGCCCGAGCAGGCGATTGAGCAGGACGCTGGCTCGTTCGAGCAGGAGCAACGAGCAGGTGAACTATAGAGCAGGGAGCAGGGAGCAGGTTTGACCGAGCAGGCGAGCAGGAGGAGCAGGAATCGAGCAGGGAGCAGGGTTCGACGAGCAGGGAGCAGGCGCGTTACTAATACTCGAGCAGGTGAGCAGGCGCGAGCAGGCGAGCAGGTGAGCAGGGAGCAGGGTGAGCAGGAGAGCAGGAGGAGCAGGCCGAGCAGGCTTGTAGAGCAGGCGAGCAGGGAGCAGGGCCACTGAGCAGGGAGCAGGGAGCAGGCTACGTGTAGAGCAGGGTAGAGCAGGTCATCAGAGGCATCGAGCAGGAGCAGCGGAGCAGGGGAGCAGGCGCTGGAGCAGGGAGCAGGGAGCAGGTATCGAGCAGGAGAGCAGGCGTGAGCAGGGAGCAGGCGAGCAGGTTAGAGCAGGGAGCAGGGAGAGCAGGAGAGCAGGGAGCAGGAACTGAGCAGGGAGCAGGGCTGAGCAGGGGGAGCAGGATGTGGAAGGAGCAGGGAGCAGGGAGCAGGCGGAGCAGGATACGAGCAGGTGAGCAGGAGCCTGAGCAGGGGTAGCGCTAAGGAGCAGGGAGCAGGGAGCAGGTGAGCAGGATGAGCAGGGAGCAGGGAGCAGGGGGGCCTACCCCCGAGCAGGGAGCAGGCGCCAAGAGCAGGCGAGCAGGGAGCAGG'\n",
    "t='GAGCAGGGA'\n",
    "\n",
    "print(naive(t,s))"
   ]
  },
  {
   "cell_type": "code",
   "execution_count": 33,
   "metadata": {},
   "outputs": [
    {
     "name": "stdout",
     "output_type": "stream",
     "text": [
      "(0.7808376362593231, 0.12478485370051635, 0.08734939759036144, 0.2495697074010327, 0.10398737808376364, 0.2151462994836489)\n"
     ]
    }
   ],
   "source": [
    "#Rosaland (mendels first law)\n",
    "\n",
    "def Offspring_prob(k, m, n):\n",
    "    total_pop = k + m + n\n",
    "    prob_kk = (k / total_pop) * ((k - 1) / (total_pop - 1))\n",
    "    #prob_nn = (n / total_pop) * ((n - 1) / (total_pop - 1))    %%not needed \n",
    "    prob_mm = (m / total_pop) * ((m - 1) / (total_pop - 1)) * 0.75\n",
    "    prob_km = 2*(k / total_pop) * ((m) / (total_pop - 1))\n",
    "    prob_mn = 2*(m / total_pop) * ((n) / (total_pop - 1)) * 0.5\n",
    "    prob_kn = 2*(k / total_pop) * ((n) / (total_pop - 1))\n",
    "    return prob_kk+prob_mm+prob_km+prob_mn+prob_kn, prob_kk, prob_mm, prob_km, prob_mn, prob_kn\n",
    "\n",
    "\n",
    "print(Offspring_prob(30,29,25))"
   ]
  },
  {
   "cell_type": "code",
   "execution_count": null,
   "metadata": {},
   "outputs": [],
   "source": [
    "#def Offspring_prob(k,m,n):!\n",
    "class OffspringProbability:\n",
    "    def __init__(self, k, m, n):\n",
    "        self.k = k\n",
    "        self.m = m\n",
    "        self.n = n\n",
    "    def calculate_probablilty"
   ]
  },
  {
   "cell_type": "code",
   "execution_count": 23,
   "metadata": {},
   "outputs": [
    {
     "name": "stdout",
     "output_type": "stream",
     "text": [
      "19\n"
     ]
    }
   ],
   "source": [
    "#Rosaland Waisicly Rabbits bugged \n",
    "def calc_pop(n, k):\n",
    "  # Initialize the reproductive rabbits count\n",
    "    small_rabbit=1\n",
    "    mature_rabbit=0  \n",
    "    for i in range(n):  # Iterate 'n' times           \n",
    "        mature_rabbit+=small_rabbit    \n",
    "        small_rabbit += k^*mature_rabbit   # Calculate the new small rabbit count\n",
    "    return small_rabbit\n",
    "\n",
    "print(calc_pop(2, 3))\n",
    "\n",
    "\n"
   ]
  },
  {
   "cell_type": "code",
   "execution_count": 32,
   "metadata": {},
   "outputs": [
    {
     "name": "stdout",
     "output_type": "stream",
     "text": [
      "[1, 1, 5, 9, 29, 65, 181, 441, 1165, 2929, 7589, 19305, 49661, 126881, 325525, 833049, 2135149, 5467345, 14007941, 35877321, 91909085, 235418369, 603054709, 1544728185, 3956947021, 10135859761, 25963647845, 66507086889, 170361678269, 436390025825, 1117836738901, 2863396842201, 7334743797805, 18788331166609, 48127306357829]\n"
     ]
    }
   ],
   "source": [
    "#Rosaland Waisicly Rabbits\n",
    "def calc_pop(n, k):\n",
    "    rabbit = [1, 1]\n",
    "    for i in range(2, n):  # Start from index 2\n",
    "        new_rabbit = rabbit[i - 1] + (rabbit[i - 2] * k)\n",
    "        rabbit.append(new_rabbit)\n",
    "    # Calculate the new small rabbit count\n",
    "    return rabbit\n",
    "\n",
    "print(calc_pop(35, 4))\n",
    "\n"
   ]
  },
  {
   "cell_type": "code",
   "execution_count": null,
   "metadata": {},
   "outputs": [],
   "source": [
    "#Calculating Expected Offspring\n",
    "def Offspring_prob(i,j,k,l m, n):\n",
    "    total_pop = k + m + n\n",
    "    prob_kk = (k / total_pop) * ((k - 1) / (total_pop - 1))\n",
    "    prob_nn = (n / total_pop) * ((n - 1) / (total_pop - 1))    %%not needed \n",
    "    prob_mm = (m / total_pop) * ((m - 1) / (total_pop - 1)) * 0.75\n",
    "    prob_km = 2*(k / total_pop) * ((m) / (total_pop - 1))\n",
    "    prob_mn = 2*(m / total_pop) * ((n) / (total_pop - 1)) * 0.5\n",
    "    prob_kn = 2*(k / total_pop) * ((n) / (total_pop - 1))"
   ]
  }
 ],
 "metadata": {
  "kernelspec": {
   "display_name": "Python 3",
   "language": "python",
   "name": "python3"
  },
  "language_info": {
   "codemirror_mode": {
    "name": "ipython",
    "version": 3
   },
   "file_extension": ".py",
   "mimetype": "text/x-python",
   "name": "python",
   "nbconvert_exporter": "python",
   "pygments_lexer": "ipython3",
   "version": "3.11.2"
  },
  "orig_nbformat": 4,
  "vscode": {
   "interpreter": {
    "hash": "e4b37ee71cc58c05d679b82a5cc3def0882bbb0e0d85cf8cc932ca492aa13ede"
   }
  }
 },
 "nbformat": 4,
 "nbformat_minor": 2
}
