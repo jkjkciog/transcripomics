{
 "cells": [
  {
   "cell_type": "code",
   "execution_count": 8,
   "metadata": {},
   "outputs": [
    {
     "name": "stdout",
     "output_type": "stream",
     "text": [
      "['2', '3', '4']\n"
     ]
    }
   ],
   "source": [
    "n=input(\"wadda fuk\")\n",
    "n=list(str(n))\n",
    "print(n)\n",
    "\n"
   ]
  },
  {
   "cell_type": "code",
   "execution_count": 1,
   "metadata": {},
   "outputs": [
    {
     "name": "stdout",
     "output_type": "stream",
     "text": [
      "[-20, -19, -18, -17, -17, -13, -12, -10, -8, -5, -1, 2, 2, 3, 7, 12, 18]\n",
      "True\n",
      "[1, 1, 0, 4, 1, 2, 2, 3, 4, 3, 0, 1, 4, 5, 6]\n"
     ]
    }
   ],
   "source": [
    "points = [-13,-17,-8,-10,-20,2,3,-19,2,-18,-5,7,-12,18,-17,12,-1]\n",
    "points.sort()\n",
    "print(points)\n",
    "values=[]\n",
    "\n",
    "\n",
    "def canMakeArithmeticProgression(arr):\n",
    "    for i in range(2,len(arr)):\n",
    "        if arr[i]-arr[i-1]==arr[i-1]-arr[i-2]:\n",
    "            return True\n",
    "        else:\n",
    "            return False\n",
    "            break\n",
    "\n",
    "\n",
    "\n",
    "def canMakeArithmeticProgression(arr):\n",
    "    for i in range(2, len(arr)):\n",
    "        if arr[i] - arr[i-1] != arr[i-1] - arr[i-2]:\n",
    "            return False\n",
    "        elif len(arr)==2:\n",
    "            return True\n",
    "    return True       \n",
    "\n",
    "    \n",
    "print(canMakeArithmeticProgression(points))\n",
    "\n",
    "for i in range(2,len(points)):\n",
    "    values.append(points[i]-points[i-1])\n",
    "print(values)\n",
    "        \n",
    "\n",
    "    "
   ]
  },
  {
   "cell_type": "code",
   "execution_count": 4,
   "metadata": {},
   "outputs": [
    {
     "name": "stdout",
     "output_type": "stream",
     "text": [
      "{'A': 184, 'C': 210, 'G': 209, 'T': 208}\n"
     ]
    }
   ],
   "source": [
    "#Rosaland #1\n",
    "def countbases(seq):\n",
    "    counts = {'A': 0, 'C': 0, 'G': 0, 'T': 0}\n",
    "    for base in seq:\n",
    "        if base in counts:\n",
    "            counts[base] += 1\n",
    "    return counts\n",
    "print(countbases('CCGCGGAGCATTCAGTGGCTCTTCAAATGTCACACTTAAACCTTGTAAACCCTGGGAACGTCGCCGGACGGTAAATGTTGTTTGCCGCAGAATACAGCATACATGTTGTCACTCGGGTAAGAGCATGCTACTTTGAGTATAAATTGTCCTACATCGGCCGATTAGGGCCGTCTCTATTGGGGGCGGCGTTGGGGACCTAAGGCTCCGATTCACAGTCTCACTGACGCCCTGAACAAGCCCGTATCATGTAGCAATATTTGGCTCCACCTCCAATTCTCAAATCCCGCACATCGGACTCATTGGGTACGCGTAATCAGTAATGCGAATCGGTTGGACCTTGCGCGTGCTGAGCCATACTGTACAATCCCTTCTGGAGTCCTTGTGTGAGGATGTAGATTCAGTTCAGACGATGTATCGCTTAGGGATCCCATGACACAACTGCCAAGGTGGTCACCGGTTATGCGACGCCCAGCGGAATAAGGACGTCATCCTCCCGACATCGCTTCTCGAACATAAGAAAGCGTACACGCCTCGCCACCATCCGGTCGACGTGGTCGTATGGGTATCATTGTGGGGTTGTTTTTGGCACTCTTACGAGCCTGGAGGGGGGCCTACTTACCCGTCGCCCAGCGAGGCCGGGATGGTACAATCGTGGCTCGTCTACGTAATTCTTGTTCAATCTTGTAACCGATGGACTCCGCACCACTGGAGATTGCATTCTATGGTTAGCCTAACACTAGTGGTATATTGCTGGCCTGCCCACGAAAATCTCTTCGAGTAGTGTTATAGCTCGTTGGCAAAGGGCAATGAA'))"
   ]
  },
  {
   "cell_type": "code",
   "execution_count": 3,
   "metadata": {},
   "outputs": [
    {
     "name": "stdout",
     "output_type": "stream",
     "text": [
      "DNA Sequence:\n",
      "GATGGAACTTGACTACGTAAATT\n",
      "this sequence has 23 bp\n",
      "RNA Sequence:\n",
      "\n",
      "this sequence also has 0 bp\n"
     ]
    }
   ],
   "source": [
    "#Rosaland #2 (needs fixing)\n",
    "RNA_Seq = []\n",
    "DNA_Seq='GATGGAACTTGACTACGTAAATT'\n",
    "print('DNA Sequence:')\n",
    "print(DNA_Seq)\n",
    "print(f'this sequence has {len(DNA_Seq)} bp')\n",
    "# Transcription\n",
    "\n",
    "\n",
    "RNA_Seq=''.join(RNA_Seq)\n",
    "print('RNA Sequence:')\n",
    "print(RNA_Seq)\n",
    "print(f'this sequence also has {len(RNA_Seq)} bp')"
   ]
  },
  {
   "cell_type": "code",
   "execution_count": 12,
   "metadata": {},
   "outputs": [
    {
     "name": "stdout",
     "output_type": "stream",
     "text": [
      "DNA Sequence: CCCTGCATTTTTCTGAGGATACTCATACAGGGCGTTTTGTCTACTGATGTGCACGCGACGAGTGTTTACGCTACCGGCTTGCACCGGTACTTGGGCGCAAGTATTCCCATAGCACGTCTAGAACACGGGAACAGCATTTGCATCCGAGATTCCAAACTATGGTGTAGCCTTTTATGTGGTTGCGGTATCAATCCATGTCGCTTGAACCTGCCTAACTACGAAGAAAGATGTTAGCTGTTAAATCTCGCGCACAAGAGAGCTCCAATCTGGACGTCTCGATGAGCAGCCCACACGCAGGTATCTACGATAGTATTGGCAGCTAGAACGTCACTTCAATCTCCTGGGGCGATAATTTTGGAGACGTTGCAGTTCACCGTAAGCTACACCGACAAAGTCAATCTCCGCCATCACAGAGCACACGTAGTTTCCGGCGGAGCGATCGACTTGGTAAAATCTTACCAATTGATCGGACTTCGGTACACGGACCTCGGAATGACACGCGATCGAAATCTAACCGTGAACCCATACTAATTTTATGCCATGCGAGTAGGTGCTTTCGGTCACGTGACCTTTAAACTTCAATTGAAGATGGCCCCTGGCCGCTTGGCAAAAATAATGGAACGGGGGGCTCAGGGAGTCTTATAAGTCTTGATCGCTAATCAATGCCCATAAAGAGGAGTCCAGTGTAACACGTGCCCCATTGCTACCGGGTGCTTCCTGTACTTCGGCGCATCCTGCTCGTCTAATTGCACATCCTACAACTCAGTTATCGCAAATTGTATAATGTTTCTGATCGTTATCTTATGTTCCAGAGGCTTGCTGGCATCGGCCTAAACTAGAGAGGGGGATGGTT\n",
      "Complementary RNA Sequence: AACCATCCCCCTCTCTAGTTTAGGCCGATGCCAGCAAGCCTCTGGAACATAAGATAACGATCAGAAACATTATACAATTTGCGATAACTGAGTTGTAGGATGTGCAATTAGACGAGCAGGATGCGCCGAAGTACAGGAAGCACCCGGTAGCAATGGGGCACGTGTTACACTGGACTCCTCTTTATGGGCATTGATTAGCGATCAAGACTTATAAGACTCCCTGAGCCCCCCGTTCCATTATTTTTGCCAAGCGGCCAGGGGCCATCTTCAATTGAAGTTTAAAGGTCACGTGACCGAAAGCACCTACTCGCATGGCATAAAATTAGTATGGGTTCACGGTTAGATTTCGATCGCGTGTCATTCCGAGGTCCGTGTACCGAAGTCCGATCAATTGGTAAGATTTTACCAAGTCGATCGCTCCGCCGGAAACTACGTGTGCTCTGTGATGGCGGAGATTGACTTTGTCGGTGTAGCTTACGGTGAACTGCAACGTCTCCAAAATTATCGCCCCAGGAGATTGAAGTGACGTTCTAGCTGCCAATACTATCGTAGATACCTGCGTGTGGGCTGCTCATCGAGACGTCCAGATTGGAGCTCTCTTGTGCGCGAGATTTAACAGCTAACATCTTTCTTCGTAGTTAGGCAGGTTCAAGCGACATGGATTGATACCGCAACCACATAAAAGGCTACACCATAGTTTGGAATCTCGGATGCAAATGCTGTTCCCGTGTTCTAGACGTGCTATGGGAATACTTGCGCCCAAGTACCGGTGCAAGCCGGTAGCGTAAACACTCGTCGCGTGCACATCAGTAGACAAAACGCCCTGTATGAGTATCCTCAGAAAAATGCAGGG\n"
     ]
    }
   ],
   "source": [
    "#Rosaland #3\n",
    "from Bio.Seq import Seq\n",
    "\n",
    "DNA_Seq = 'CCCTGCATTTTTCTGAGGATACTCATACAGGGCGTTTTGTCTACTGATGTGCACGCGACGAGTGTTTACGCTACCGGCTTGCACCGGTACTTGGGCGCAAGTATTCCCATAGCACGTCTAGAACACGGGAACAGCATTTGCATCCGAGATTCCAAACTATGGTGTAGCCTTTTATGTGGTTGCGGTATCAATCCATGTCGCTTGAACCTGCCTAACTACGAAGAAAGATGTTAGCTGTTAAATCTCGCGCACAAGAGAGCTCCAATCTGGACGTCTCGATGAGCAGCCCACACGCAGGTATCTACGATAGTATTGGCAGCTAGAACGTCACTTCAATCTCCTGGGGCGATAATTTTGGAGACGTTGCAGTTCACCGTAAGCTACACCGACAAAGTCAATCTCCGCCATCACAGAGCACACGTAGTTTCCGGCGGAGCGATCGACTTGGTAAAATCTTACCAATTGATCGGACTTCGGTACACGGACCTCGGAATGACACGCGATCGAAATCTAACCGTGAACCCATACTAATTTTATGCCATGCGAGTAGGTGCTTTCGGTCACGTGACCTTTAAACTTCAATTGAAGATGGCCCCTGGCCGCTTGGCAAAAATAATGGAACGGGGGGCTCAGGGAGTCTTATAAGTCTTGATCGCTAATCAATGCCCATAAAGAGGAGTCCAGTGTAACACGTGCCCCATTGCTACCGGGTGCTTCCTGTACTTCGGCGCATCCTGCTCGTCTAATTGCACATCCTACAACTCAGTTATCGCAAATTGTATAATGTTTCTGATCGTTATCTTATGTTCCAGAGGCTTGCTGGCATCGGCCTAAACTAGAGAGGGGGATGGTT'\n",
    "\n",
    "# convert DNA_Seq string to a Seq object\n",
    "dna_seq = Seq(DNA_Seq)\n",
    "\n",
    "# obtain complementary RNA sequence\n",
    "rna_seq = dna_seq.reverse_complement()\n",
    "\n",
    "print('DNA Sequence:', dna_seq)\n",
    "print('Complementary RNA Sequence:', rna_seq)\n"
   ]
  },
  {
   "attachments": {},
   "cell_type": "markdown",
   "metadata": {},
   "source": [
    " "
   ]
  }
 ],
 "metadata": {
  "kernelspec": {
   "display_name": "Python 3",
   "language": "python",
   "name": "python3"
  },
  "language_info": {
   "codemirror_mode": {
    "name": "ipython",
    "version": 3
   },
   "file_extension": ".py",
   "mimetype": "text/x-python",
   "name": "python",
   "nbconvert_exporter": "python",
   "pygments_lexer": "ipython3",
   "version": "3.11.2"
  },
  "orig_nbformat": 4,
  "vscode": {
   "interpreter": {
    "hash": "544c7e72ceabb8b5baf00146d00b7c3a5bfd60d2cf41bb549c5c035fb33480da"
   }
  }
 },
 "nbformat": 4,
 "nbformat_minor": 2
}
