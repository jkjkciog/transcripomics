{
 "cells": [
  {
   "cell_type": "code",
   "execution_count": 8,
   "metadata": {},
   "outputs": [
    {
     "name": "stdout",
     "output_type": "stream",
     "text": [
      "['2', '3', '4']\n"
     ]
    }
   ],
   "source": [
    "n=input(\"wadda fuk\")\n",
    "n=list(str(n))\n",
    "print(n)\n",
    "\n"
   ]
  },
  {
   "cell_type": "code",
   "execution_count": 24,
   "metadata": {},
   "outputs": [
    {
     "name": "stdout",
     "output_type": "stream",
     "text": [
      "[-20, -19, -18, -17, -17, -13, -12, -10, -8, -5, -1, 2, 2, 3, 7, 12, 18]\n",
      "True\n",
      "[1, 1, 0, 4, 1, 2, 2, 3, 4, 3, 0, 1, 4, 5, 6]\n"
     ]
    }
   ],
   "source": [
    "points = [-13,-17,-8,-10,-20,2,3,-19,2,-18,-5,7,-12,18,-17,12,-1]\n",
    "points.sort()\n",
    "print(points)\n",
    "values=[]\n",
    "\n",
    "\n",
    "def canMakeArithmeticProgression(arr):\n",
    "    for i in range(2,len(arr)):\n",
    "        if arr[i]-arr[i-1]==arr[i-1]-arr[i-2]:\n",
    "            return True\n",
    "        else:\n",
    "            return False\n",
    "    if len(arr)==2:\n",
    "        return True\n",
    "    \n",
    "print(canMakeArithmeticProgression(points))\n",
    "\n",
    "for i in range(2,len(points)):\n",
    "    values.append(points[i]-points[i-1])\n",
    "print(values)\n",
    "        \n",
    "\n",
    "    "
   ]
  }
 ],
 "metadata": {
  "kernelspec": {
   "display_name": "Python 3",
   "language": "python",
   "name": "python3"
  },
  "language_info": {
   "codemirror_mode": {
    "name": "ipython",
    "version": 3
   },
   "file_extension": ".py",
   "mimetype": "text/x-python",
   "name": "python",
   "nbconvert_exporter": "python",
   "pygments_lexer": "ipython3",
   "version": "3.11.2"
  },
  "orig_nbformat": 4
 },
 "nbformat": 4,
 "nbformat_minor": 2
}
