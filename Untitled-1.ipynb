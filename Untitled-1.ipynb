{
 "cells": [
  {
   "cell_type": "code",
   "execution_count": 8,
   "metadata": {},
   "outputs": [
    {
     "name": "stdout",
     "output_type": "stream",
     "text": [
      "['2', '3', '4']\n"
     ]
    }
   ],
   "source": [
    "n=input(\"wadda fuk\")\n",
    "n=list(str(n))\n",
    "print(n)\n",
    "\n"
   ]
  },
  {
   "cell_type": "code",
   "execution_count": 1,
   "metadata": {},
   "outputs": [
    {
     "name": "stdout",
     "output_type": "stream",
     "text": [
      "[-20, -19, -18, -17, -17, -13, -12, -10, -8, -5, -1, 2, 2, 3, 7, 12, 18]\n",
      "True\n",
      "[1, 1, 0, 4, 1, 2, 2, 3, 4, 3, 0, 1, 4, 5, 6]\n"
     ]
    }
   ],
   "source": [
    "#some leetcode problem\n",
    "points = [-13,-17,-8,-10,-20,2,3,-19,2,-18,-5,7,-12,18,-17,12,-1]\n",
    "points.sort()\n",
    "print(points)\n",
    "values=[]\n",
    "\n",
    "\n",
    "def canMakeArithmeticProgression(arr):\n",
    "    for i in range(2,len(arr)):\n",
    "        if arr[i]-arr[i-1]==arr[i-1]-arr[i-2]:\n",
    "            return True\n",
    "        else:\n",
    "            return False\n",
    "            break\n",
    "\n",
    "\n",
    "\n",
    "def canMakeArithmeticProgression(arr):\n",
    "    for i in range(2, len(arr)):\n",
    "        if arr[i] - arr[i-1] != arr[i-1] - arr[i-2]:\n",
    "            return False\n",
    "        elif len(arr)==2:\n",
    "            return True\n",
    "    return True       \n",
    "\n",
    "    \n",
    "print(canMakeArithmeticProgression(points))\n",
    "\n",
    "for i in range(2,len(points)):\n",
    "    values.append(points[i]-points[i-1])\n",
    "print(values)\n",
    "        \n",
    "\n",
    "    "
   ]
  },
  {
   "cell_type": "code",
   "execution_count": 4,
   "metadata": {},
   "outputs": [
    {
     "name": "stdout",
     "output_type": "stream",
     "text": [
      "{'A': 184, 'C': 210, 'G': 209, 'T': 208}\n"
     ]
    }
   ],
   "source": [
    "def countbases(seq):\n",
    "    counts = {'A': 0, 'C': 0, 'G': 0, 'T': 0}\n",
    "    for base in seq:\n",
    "        if base in counts:\n",
    "            counts[base] += 1\n",
    "    return counts\n",
    "print(countbases('CCGCGGAGCATTCAGTGGCTCTTCAAATGTCACACTTAAACCTTGTAAACCCTGGGAACGTCGCCGGACGGTAAATGTTGTTTGCCGCAGAATACAGCATACATGTTGTCACTCGGGTAAGAGCATGCTACTTTGAGTATAAATTGTCCTACATCGGCCGATTAGGGCCGTCTCTATTGGGGGCGGCGTTGGGGACCTAAGGCTCCGATTCACAGTCTCACTGACGCCCTGAACAAGCCCGTATCATGTAGCAATATTTGGCTCCACCTCCAATTCTCAAATCCCGCACATCGGACTCATTGGGTACGCGTAATCAGTAATGCGAATCGGTTGGACCTTGCGCGTGCTGAGCCATACTGTACAATCCCTTCTGGAGTCCTTGTGTGAGGATGTAGATTCAGTTCAGACGATGTATCGCTTAGGGATCCCATGACACAACTGCCAAGGTGGTCACCGGTTATGCGACGCCCAGCGGAATAAGGACGTCATCCTCCCGACATCGCTTCTCGAACATAAGAAAGCGTACACGCCTCGCCACCATCCGGTCGACGTGGTCGTATGGGTATCATTGTGGGGTTGTTTTTGGCACTCTTACGAGCCTGGAGGGGGGCCTACTTACCCGTCGCCCAGCGAGGCCGGGATGGTACAATCGTGGCTCGTCTACGTAATTCTTGTTCAATCTTGTAACCGATGGACTCCGCACCACTGGAGATTGCATTCTATGGTTAGCCTAACACTAGTGGTATATTGCTGGCCTGCCCACGAAAATCTCTTCGAGTAGTGTTATAGCTCGTTGGCAAAGGGCAATGAA'))"
   ]
  },
  {
   "cell_type": "code",
   "execution_count": 4,
   "metadata": {},
   "outputs": [
    {
     "name": "stdout",
     "output_type": "stream",
     "text": [
      "[33, 40, 47, 63, 90, 143, 174, 271, 278, 327, 348, 412, 475, 495, 502, 590, 597, 633, 658, 665, 682, 700, 742, 749, 815, 822, 846, 853, 880, 908]\n"
     ]
    }
   ],
   "source": [
    "#Rosaland (finding a motif in a DNA sequence)\n",
    "import Bio\n",
    "from Bio.Blast import NCBIWWW,NCBIXML\n",
    "from Bio.Seq import Seq\n",
    "from Bio import SeqIO\n",
    "import pandas as pd\n",
    "import django\n",
    "import matplotlib\n",
    "def naive(p, t):\n",
    "    occurrences = []\n",
    "    for i in range(len(t) - len(p) + 1):  # loop over alignments\n",
    "        match = True\n",
    "        for j in range(len(p)):  # loop over characters\n",
    "            if t[i+j] != p[j]:  # compare characters\n",
    "                match = False\n",
    "                break\n",
    "        if match:\n",
    "            occurrences.append(i+1)  # all chars matched; record\n",
    "    return occurrences\n",
    "\n",
    "s='ATTATAGAGCAGGTGTCGGAGCAGGTTCGCCCGAGCAGGGAGCAGGGAGCAGGGAGCAGGCGGAGCAGGGAGCAGGCGAGCAGGCGAAGGAGCAGGGAGCAGGAGTGGACAGGAGGGAGCAGGCGAGCAGGTTTGAGCAGGTGAGCAGGGAGCAGGATTGAGCAGGCGATCTGGAGCAGGGAGCAGGACACCGCAAGAGCAGGGGCCCGAGCAGGCGATTGAGCAGGACGCTGGCTCGTTCGAGCAGGAGCAACGAGCAGGTGAACTATAGAGCAGGGAGCAGGGAGCAGGTTTGACCGAGCAGGCGAGCAGGAGGAGCAGGAATCGAGCAGGGAGCAGGGTTCGACGAGCAGGGAGCAGGCGCGTTACTAATACTCGAGCAGGTGAGCAGGCGCGAGCAGGCGAGCAGGTGAGCAGGGAGCAGGGTGAGCAGGAGAGCAGGAGGAGCAGGCCGAGCAGGCTTGTAGAGCAGGCGAGCAGGGAGCAGGGCCACTGAGCAGGGAGCAGGGAGCAGGCTACGTGTAGAGCAGGGTAGAGCAGGTCATCAGAGGCATCGAGCAGGAGCAGCGGAGCAGGGGAGCAGGCGCTGGAGCAGGGAGCAGGGAGCAGGTATCGAGCAGGAGAGCAGGCGTGAGCAGGGAGCAGGCGAGCAGGTTAGAGCAGGGAGCAGGGAGAGCAGGAGAGCAGGGAGCAGGAACTGAGCAGGGAGCAGGGCTGAGCAGGGGGAGCAGGATGTGGAAGGAGCAGGGAGCAGGGAGCAGGCGGAGCAGGATACGAGCAGGTGAGCAGGAGCCTGAGCAGGGGTAGCGCTAAGGAGCAGGGAGCAGGGAGCAGGTGAGCAGGATGAGCAGGGAGCAGGGAGCAGGGGGGCCTACCCCCGAGCAGGGAGCAGGCGCCAAGAGCAGGCGAGCAGGGAGCAGG'\n",
    "t='GAGCAGGGA'\n",
    "\n",
    "print(naive(t,s))"
   ]
  },
  {
   "cell_type": "code",
   "execution_count": 33,
   "metadata": {},
   "outputs": [
    {
     "name": "stdout",
     "output_type": "stream",
     "text": [
      "(0.7808376362593231, 0.12478485370051635, 0.08734939759036144, 0.2495697074010327, 0.10398737808376364, 0.2151462994836489)\n"
     ]
    }
   ],
   "source": [
    "#Rosaland (mendels first law)\n",
    "\n",
    "def Offspring_prob(k, m, n):\n",
    "    total_pop = k + m + n\n",
    "    prob_kk = (k / total_pop) * ((k - 1) / (total_pop - 1))\n",
    "    #prob_nn = (n / total_pop) * ((n - 1) / (total_pop - 1))    %%not needed \n",
    "    prob_mm = (m / total_pop) * ((m - 1) / (total_pop - 1)) * 0.75\n",
    "    prob_km = 2*(k / total_pop) * ((m) / (total_pop - 1))\n",
    "    prob_mn = 2*(m / total_pop) * ((n) / (total_pop - 1)) * 0.5\n",
    "    prob_kn = 2*(k / total_pop) * ((n) / (total_pop - 1))\n",
    "    return prob_kk+prob_mm+prob_km+prob_mn+prob_kn, prob_kk, prob_mm, prob_km, prob_mn, prob_kn\n",
    "\n",
    "\n",
    "print(Offspring_prob(30,29,25))"
   ]
  },
  {
   "cell_type": "code",
   "execution_count": null,
   "metadata": {},
   "outputs": [],
   "source": [
    "#def Offspring_prob(k,m,n):!\n",
    "class OffspringProbability:\n",
    "    def __init__(self, k, m, n):\n",
    "        self.k = k\n",
    "        self.m = m\n",
    "        self.n = n\n",
    "    def calculate_probablilty"
   ]
  },
  {
   "cell_type": "code",
   "execution_count": 23,
   "metadata": {},
   "outputs": [
    {
     "name": "stdout",
     "output_type": "stream",
     "text": [
      "19\n"
     ]
    }
   ],
   "source": [
    "#Rosaland Waisicly Rabbits bugged \n",
    "def calc_pop(n, k):\n",
    "  # Initialize the reproductive rabbits count\n",
    "    small_rabbit=1\n",
    "    mature_rabbit=0  \n",
    "    for i in range(n):  # Iterate 'n' times           \n",
    "        mature_rabbit+=small_rabbit    \n",
    "        small_rabbit += k^*mature_rabbit   # Calculate the new small rabbit count\n",
    "    return small_rabbit\n",
    "\n",
    "print(calc_pop(2, 3))\n",
    "\n",
    "\n"
   ]
  },
  {
   "cell_type": "code",
   "execution_count": 32,
   "metadata": {},
   "outputs": [
    {
     "name": "stdout",
     "output_type": "stream",
     "text": [
      "[1, 1, 5, 9, 29, 65, 181, 441, 1165, 2929, 7589, 19305, 49661, 126881, 325525, 833049, 2135149, 5467345, 14007941, 35877321, 91909085, 235418369, 603054709, 1544728185, 3956947021, 10135859761, 25963647845, 66507086889, 170361678269, 436390025825, 1117836738901, 2863396842201, 7334743797805, 18788331166609, 48127306357829]\n"
     ]
    }
   ],
   "source": [
    "#Rosaland Waisicly Rabbits\n",
    "def calc_pop(n, k):\n",
    "    rabbit = [1, 1]\n",
    "    for i in range(2, n):  # Start from index 2\n",
    "        new_rabbit = rabbit[i - 1] + (rabbit[i - 2] * k)\n",
    "        rabbit.append(new_rabbit)\n",
    "    # Calculate the new small rabbit count\n",
    "    return rabbit\n",
    "\n",
    "print(calc_pop(35, 4))\n",
    "\n"
   ]
  },
  {
   "cell_type": "code",
   "execution_count": 3,
   "metadata": {},
   "outputs": [
    {
     "data": {
      "text/plain": [
       "147705.5"
      ]
     },
     "execution_count": 3,
     "metadata": {},
     "output_type": "execute_result"
    }
   ],
   "source": [
    "#Calculating Expected Offspring\n",
    "def Offspring_prob(i,j,k,l,m,n):\n",
    "    i=i*2\n",
    "    j=j*2\n",
    "    k=k*2\n",
    "    l=l*2*.75\n",
    "    m=m*.5*2\n",
    "    n=n*0\n",
    "    return i+j+k+l+m+n\n",
    "\n",
    "Offspring_prob(16432, 16489, 18600, 18259, 17275, 17387)\n"
   ]
  },
  {
   "cell_type": "code",
   "execution_count": 9,
   "metadata": {},
   "outputs": [
    {
     "name": "stdout",
     "output_type": "stream",
     "text": [
      "96043.29959000037\n"
     ]
    }
   ],
   "source": [
    "\"Calculating Protein Mass\"\n",
    "def Protein_mass(Protein_chain):\n",
    "    amino_acid_masses = {\n",
    "        'A': 71.03711,\n",
    "        'C': 103.00919,\n",
    "        'D': 115.02694,\n",
    "        'E': 129.04259,\n",
    "        'F': 147.06841,\n",
    "        'G': 57.02146,\n",
    "        'H': 137.05891,\n",
    "        'I': 113.08406,\n",
    "        'K': 128.09496,\n",
    "        'L': 113.08406,\n",
    "        'M': 131.04049,\n",
    "        'N': 114.04293,\n",
    "        'P': 97.05276,\n",
    "        'Q': 128.05858,\n",
    "        'R': 156.10111,\n",
    "        'S': 87.03203,\n",
    "        'T': 101.04768,\n",
    "        'V': 99.06841,\n",
    "        'W': 186.07931,\n",
    "        'Y': 163.06333\n",
    "    }\n",
    "    mass_weight=0\n",
    "    for i in range (len(Protein_chain)):\n",
    "        Protein = amino_acid_masses.get(Protein_chain[i])\n",
    "        if Protein is not None:\n",
    "            mass_weight+= Protein\n",
    "    return mass_weight\n",
    "\n",
    "Protein_chain=\"SFFRKDSFKPANMYFTECTEVCDEHRNVIGIEYCMKNWAYDICNRAYHAYNIRNLVCCCAANEKWLDGSCHHKVEYDNTWWTWATAYIAHSAGKWPKFPPKIFDRPQQGEKHQKPVEINPQEQLVNLWQTNLKVHIINNYKKKIMCPDWVSAAFEVRWWMDVKEQVASAPIDEDTCNGTPSSSSCWPEHCTSGVQIFYTVMECDAAMHMNMQQQMLDGVEQSHYVISMMPLKKFYCSEYAAFNRWMYKKDITHFAKAKMPAPYCMGQCLKEPKGEKTNDSRKWIYSFGHDFAGTFSVLCMGKFSWMVHSNCQSKRIIEYASESWAIEFPNGPWKVDVAWMIDNGPMKASQNSQKIHLHMLHSVFWMIMPFNGLRYQGCSMLWFKMFSTWHPAMKLTIWVVSSTCERRRNVEYQCCDQDHGHIGVPMDMKAGKCWKQPFKEEKFLMIKYILDHWQSMQNFVQPNDSAKKAQMAWTMQLPWNPKFPFRFETKDMRMGHSASIMCPTWKRQQAAECEDIGWGFYSHEIPSWLFDADENDSPQEPKNPKFDSWTLNLRPKFGEKGWGQAWASIIPFSFKNHVDGVGHDESCFGLHFCHKWKITCWDPTTEVIKNKEKILWEGHPAVDGLRNNRKLGSWRSVFEKCACSKEAFNFSTDRVIWLFMRKLLFMSFIARQESLHTFFLETVHYVGRPWCALQKADNIICHYMMSSNKCQEFAYWMPHMYSRMSAALENGDNWLLDIEHEVTCLALAWIPNHPHTAQDLEHMWMERCFLWNMHICEAKEGGLICKHMLCAHRPCMPMFDTGCCKMGGHIKHPPNAVH\"\n",
    "print(Protein_mass(Protein_chain))"
   ]
  },
  {
   "cell_type": "code",
   "execution_count": null,
   "metadata": {},
   "outputs": [],
   "source": [
    "\"RNA Splicing\"\n",
    "def readGenome(filename):\n",
    "    genome = ''\n",
    "    with open(filename, 'r') as f:\n",
    "        for line in f:\n",
    "            # ignore header line with genome information\n",
    "            if not line[0] == '>':\n",
    "                genome += line.rstrip()\n",
    "    return genome\n",
    "\n",
    "print(readGenome('RNA_SPLICING_TEST_FILE.fa'))\n"
   ]
  },
  {
   "cell_type": "code",
   "execution_count": 2,
   "metadata": {},
   "outputs": [
    {
     "name": "stdout",
     "output_type": "stream",
     "text": [
      "Protein sequence:\n",
      "MAMAPRTEINSTRING_\n"
     ]
    }
   ],
   "source": [
    "def translate_dna_to_protein(dna_codons):\n",
    "    codon_table = {\n",
    "        'AUA': 'I', 'AUC': 'I', 'AUU': 'I', 'AUG': 'M',\n",
    "        'ACA': 'T', 'ACC': 'T', 'ACG': 'T', 'ACU': 'T',\n",
    "        'AAC': 'N', 'AAU': 'N', 'AAA': 'K', 'AAG': 'K',\n",
    "        'AGC': 'S', 'AGU': 'S', 'AGA': 'R', 'AGG': 'R',\n",
    "        'CUA': 'L', 'CUC': 'L', 'CUG': 'L', 'CUU': 'L',\n",
    "        'CCA': 'P', 'CCC': 'P', 'CCG': 'P', 'CCU': 'P',\n",
    "        'CAC': 'H', 'CAU': 'H', 'CAA': 'Q', 'CAG': 'Q',\n",
    "        'CGA': 'R', 'CGC': 'R', 'CGG': 'R', 'CGU': 'R',\n",
    "        'GUA': 'V', 'GUC': 'V', 'GUG': 'V', 'GUU': 'V',\n",
    "        'GCA': 'A', 'GCC': 'A', 'GCG': 'A', 'GCU': 'A',\n",
    "        'GAC': 'D', 'GAU': 'D', 'GAA': 'E', 'GAG': 'E',\n",
    "        'GGA': 'G', 'GGC': 'G', 'GGG': 'G', 'GGU': 'G',\n",
    "        'UCA': 'S', 'UCC': 'S', 'UCG': 'S', 'UCU': 'S',\n",
    "        'UUC': 'F', 'UUU': 'F', 'UUA': 'L', 'UUG': 'L',\n",
    "        'UAC': 'Y', 'UAU': 'Y', 'UAA': '_', 'UAG': '_',\n",
    "        'UGC': 'C', 'UGU': 'C', 'UGA': '_', 'UGG': 'W',\n",
    "    }\n",
    "\n",
    "    protein_sequence = \"\"\n",
    "    for codon in range(0, len(dna_codons), 3):\n",
    "        protein = codon_table.get(dna_codons[codon:codon+3])\n",
    "        if protein:\n",
    "            protein_sequence += protein\n",
    "\n",
    "    return protein_sequence\n",
    "\n",
    "\n",
    "RNA_Seq = \"AUGGCCAUGGCGCCCAGAACUGAGAUCAAUAGUACCCGUAUUAACGGGUGA\"\n",
    "protein_seq = translate_dna_to_protein(RNA_Seq)\n",
    "print(\"Protein sequence:\")\n",
    "print(protein_seq)\n"
   ]
  }
 ],
 "metadata": {
  "kernelspec": {
   "display_name": "Python 3",
   "language": "python",
   "name": "python3"
  },
  "language_info": {
   "codemirror_mode": {
    "name": "ipython",
    "version": 3
   },
   "file_extension": ".py",
   "mimetype": "text/x-python",
   "name": "python",
   "nbconvert_exporter": "python",
   "pygments_lexer": "ipython3",
   "version": "3.11.2"
  },
  "orig_nbformat": 4,
  "vscode": {
   "interpreter": {
    "hash": "e4b37ee71cc58c05d679b82a5cc3def0882bbb0e0d85cf8cc932ca492aa13ede"
   }
  }
 },
 "nbformat": 4,
 "nbformat_minor": 2
}
